{
 "cells": [
  {
   "cell_type": "code",
   "execution_count": 2,
   "metadata": {},
   "outputs": [
    {
     "name": "stdout",
     "output_type": "stream",
     "text": [
      "{\n",
      "  \"domain_name\": [\n",
      "    \"GOOGLE.COM\",\n",
      "    \"google.com\"\n",
      "  ],\n",
      "  \"registrar\": \"MarkMonitor, Inc.\",\n",
      "  \"whois_server\": \"whois.markmonitor.com\",\n",
      "  \"referral_url\": null,\n",
      "  \"updated_date\": [\n",
      "    \"2019-09-09 15:39:04\",\n",
      "    \"2019-09-09 08:39:04\"\n",
      "  ],\n",
      "  \"creation_date\": [\n",
      "    \"1997-09-15 04:00:00\",\n",
      "    \"1997-09-15 00:00:00\"\n",
      "  ],\n",
      "  \"expiration_date\": [\n",
      "    \"2028-09-14 04:00:00\",\n",
      "    \"2028-09-13 00:00:00\"\n",
      "  ],\n",
      "  \"name_servers\": [\n",
      "    \"NS1.GOOGLE.COM\",\n",
      "    \"NS2.GOOGLE.COM\",\n",
      "    \"NS3.GOOGLE.COM\",\n",
      "    \"NS4.GOOGLE.COM\",\n",
      "    \"ns3.google.com\",\n",
      "    \"ns1.google.com\",\n",
      "    \"ns4.google.com\",\n",
      "    \"ns2.google.com\"\n",
      "  ],\n",
      "  \"status\": [\n",
      "    \"clientDeleteProhibited https://icann.org/epp#clientDeleteProhibited\",\n",
      "    \"clientTransferProhibited https://icann.org/epp#clientTransferProhibited\",\n",
      "    \"clientUpdateProhibited https://icann.org/epp#clientUpdateProhibited\",\n",
      "    \"serverDeleteProhibited https://icann.org/epp#serverDeleteProhibited\",\n",
      "    \"serverTransferProhibited https://icann.org/epp#serverTransferProhibited\",\n",
      "    \"serverUpdateProhibited https://icann.org/epp#serverUpdateProhibited\",\n",
      "    \"clientUpdateProhibited (https://www.icann.org/epp#clientUpdateProhibited)\",\n",
      "    \"clientTransferProhibited (https://www.icann.org/epp#clientTransferProhibited)\",\n",
      "    \"clientDeleteProhibited (https://www.icann.org/epp#clientDeleteProhibited)\",\n",
      "    \"serverUpdateProhibited (https://www.icann.org/epp#serverUpdateProhibited)\",\n",
      "    \"serverTransferProhibited (https://www.icann.org/epp#serverTransferProhibited)\",\n",
      "    \"serverDeleteProhibited (https://www.icann.org/epp#serverDeleteProhibited)\"\n",
      "  ],\n",
      "  \"emails\": [\n",
      "    \"abusecomplaints@markmonitor.com\",\n",
      "    \"whoisrequest@markmonitor.com\"\n",
      "  ],\n",
      "  \"dnssec\": \"unsigned\",\n",
      "  \"name\": null,\n",
      "  \"org\": \"Google LLC\",\n",
      "  \"address\": null,\n",
      "  \"city\": null,\n",
      "  \"state\": \"CA\",\n",
      "  \"zipcode\": null,\n",
      "  \"country\": \"US\"\n",
      "}\n"
     ]
    }
   ],
   "source": [
    "import whois\n",
    "host = 'google.com'\n",
    "res=whois.whois(host)\n",
    "print(res)"
   ]
  },
  {
   "cell_type": "code",
   "execution_count": 3,
   "metadata": {},
   "outputs": [
    {
     "name": "stdout",
     "output_type": "stream",
     "text": [
      "{\n",
      "  \"domain_name\": [\n",
      "    \"GOOGLE.COM\",\n",
      "    \"google.com\"\n",
      "  ],\n",
      "  \"registrar\": \"MarkMonitor, Inc.\",\n",
      "  \"whois_server\": \"whois.markmonitor.com\",\n",
      "  \"referral_url\": null,\n",
      "  \"updated_date\": [\n",
      "    \"2019-09-09 15:39:04\",\n",
      "    \"2019-09-09 08:39:04\"\n",
      "  ],\n",
      "  \"creation_date\": [\n",
      "    \"1997-09-15 04:00:00\",\n",
      "    \"1997-09-15 00:00:00\"\n",
      "  ],\n",
      "  \"expiration_date\": [\n",
      "    \"2028-09-14 04:00:00\",\n",
      "    \"2028-09-13 00:00:00\"\n",
      "  ],\n",
      "  \"name_servers\": [\n",
      "    \"NS1.GOOGLE.COM\",\n",
      "    \"NS2.GOOGLE.COM\",\n",
      "    \"NS3.GOOGLE.COM\",\n",
      "    \"NS4.GOOGLE.COM\",\n",
      "    \"ns3.google.com\",\n",
      "    \"ns2.google.com\",\n",
      "    \"ns1.google.com\",\n",
      "    \"ns4.google.com\"\n",
      "  ],\n",
      "  \"status\": [\n",
      "    \"clientDeleteProhibited https://icann.org/epp#clientDeleteProhibited\",\n",
      "    \"clientTransferProhibited https://icann.org/epp#clientTransferProhibited\",\n",
      "    \"clientUpdateProhibited https://icann.org/epp#clientUpdateProhibited\",\n",
      "    \"serverDeleteProhibited https://icann.org/epp#serverDeleteProhibited\",\n",
      "    \"serverTransferProhibited https://icann.org/epp#serverTransferProhibited\",\n",
      "    \"serverUpdateProhibited https://icann.org/epp#serverUpdateProhibited\",\n",
      "    \"clientUpdateProhibited (https://www.icann.org/epp#clientUpdateProhibited)\",\n",
      "    \"clientTransferProhibited (https://www.icann.org/epp#clientTransferProhibited)\",\n",
      "    \"clientDeleteProhibited (https://www.icann.org/epp#clientDeleteProhibited)\",\n",
      "    \"serverUpdateProhibited (https://www.icann.org/epp#serverUpdateProhibited)\",\n",
      "    \"serverTransferProhibited (https://www.icann.org/epp#serverTransferProhibited)\",\n",
      "    \"serverDeleteProhibited (https://www.icann.org/epp#serverDeleteProhibited)\"\n",
      "  ],\n",
      "  \"emails\": [\n",
      "    \"abusecomplaints@markmonitor.com\",\n",
      "    \"whoisrequest@markmonitor.com\"\n",
      "  ],\n",
      "  \"dnssec\": \"unsigned\",\n",
      "  \"name\": null,\n",
      "  \"org\": \"Google LLC\",\n",
      "  \"address\": null,\n",
      "  \"city\": null,\n",
      "  \"state\": \"CA\",\n",
      "  \"zipcode\": null,\n",
      "  \"country\": \"US\"\n",
      "}\n",
      "domain_name\n",
      "registrar\n",
      "whois_server\n",
      "referral_url\n",
      "updated_date\n",
      "creation_date\n",
      "expiration_date\n",
      "name_servers\n",
      "status\n",
      "emails\n",
      "dnssec\n",
      "name\n",
      "org\n",
      "address\n",
      "city\n",
      "state\n",
      "zipcode\n",
      "country\n"
     ]
    }
   ],
   "source": [
    "import whois\n",
    "host = 'google.com'\n",
    "res=whois.whois(host)\n",
    "print(res)\n",
    "for x in res:\n",
    "    print(x)"
   ]
  },
  {
   "cell_type": "code",
   "execution_count": 4,
   "metadata": {},
   "outputs": [
    {
     "name": "stdout",
     "output_type": "stream",
     "text": [
      "[datetime.datetime(2028, 9, 14, 4, 0), datetime.datetime(2028, 9, 13, 0, 0)]\n"
     ]
    }
   ],
   "source": [
    "#if you only want to extract expiration date\n",
    "import whois\n",
    "host = 'google.com'\n",
    "res=whois.whois(host)\n",
    "print(res.expiration_date)"
   ]
  },
  {
   "cell_type": "code",
   "execution_count": 5,
   "metadata": {},
   "outputs": [
    {
     "name": "stdout",
     "output_type": "stream",
     "text": [
      "<class 'list'>\n"
     ]
    }
   ],
   "source": [
    "#to know its type\n",
    "import whois\n",
    "host = 'google.com'\n",
    "res=whois.whois(host)\n",
    "print(type(res.expiration_date))"
   ]
  },
  {
   "cell_type": "code",
   "execution_count": 6,
   "metadata": {},
   "outputs": [
    {
     "name": "stdout",
     "output_type": "stream",
     "text": [
      "ED: 2028-09-14 04:00:00\n",
      "ED: 2028-09-13 00:00:00\n"
     ]
    }
   ],
   "source": [
    "import whois\n",
    "host = 'google.com'\n",
    "res=whois.whois(host)\n",
    "for x in res.expiration_date:\n",
    "    print('ED:',x)"
   ]
  },
  {
   "cell_type": "code",
   "execution_count": 7,
   "metadata": {},
   "outputs": [
    {
     "name": "stdout",
     "output_type": "stream",
     "text": [
      "clientDeleteProhibited https://icann.org/epp#clientDeleteProhibited\n",
      "clientTransferProhibited https://icann.org/epp#clientTransferProhibited\n",
      "clientUpdateProhibited https://icann.org/epp#clientUpdateProhibited\n",
      "serverDeleteProhibited https://icann.org/epp#serverDeleteProhibited\n",
      "serverTransferProhibited https://icann.org/epp#serverTransferProhibited\n",
      "serverUpdateProhibited https://icann.org/epp#serverUpdateProhibited\n",
      "clientUpdateProhibited (https://www.icann.org/epp#clientUpdateProhibited)\n",
      "clientTransferProhibited (https://www.icann.org/epp#clientTransferProhibited)\n",
      "clientDeleteProhibited (https://www.icann.org/epp#clientDeleteProhibited)\n",
      "serverUpdateProhibited (https://www.icann.org/epp#serverUpdateProhibited)\n",
      "serverTransferProhibited (https://www.icann.org/epp#serverTransferProhibited)\n",
      "serverDeleteProhibited (https://www.icann.org/epp#serverDeleteProhibited)\n"
     ]
    }
   ],
   "source": [
    "import whois\n",
    "host = 'google.com'\n",
    "res=whois.whois(host)\n",
    "for x in res.status:\n",
    "    print(x)"
   ]
  },
  {
   "cell_type": "code",
   "execution_count": null,
   "metadata": {},
   "outputs": [],
   "source": []
  }
 ],
 "metadata": {
  "kernelspec": {
   "display_name": "Python 3",
   "language": "python",
   "name": "python3"
  },
  "language_info": {
   "codemirror_mode": {
    "name": "ipython",
    "version": 3
   },
   "file_extension": ".py",
   "mimetype": "text/x-python",
   "name": "python",
   "nbconvert_exporter": "python",
   "pygments_lexer": "ipython3",
   "version": "3.7.3"
  }
 },
 "nbformat": 4,
 "nbformat_minor": 2
}
